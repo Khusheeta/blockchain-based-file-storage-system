{
  "nbformat": 4,
  "nbformat_minor": 0,
  "metadata": {
    "colab": {
      "provenance": []
    },
    "kernelspec": {
      "name": "python3",
      "display_name": "Python 3"
    },
    "language_info": {
      "name": "python"
    }
  },
  "cells": [
    {
      "cell_type": "markdown",
      "source": [
        "##Name:- Abhay Chheda\n",
        "\n",
        "##Class:- BE3\n",
        "\n",
        "##Batch:- A\n",
        "\n",
        "##Rollno:- 9\n",
        "\n",
        "##Subject:- NLP\n",
        "\n",
        "##EXPERIMENT:- 1\n",
        "\n",
        "##AIM:- Tokenization\n"
      ],
      "metadata": {
        "id": "x3nQthfai9qU"
      }
    },
    {
      "cell_type": "code",
      "execution_count": null,
      "metadata": {
        "colab": {
          "base_uri": "https://localhost:8080/"
        },
        "id": "WyprJ3C5ypow",
        "outputId": "ce6360f0-0bb0-4640-96ac-0680bb49f354"
      },
      "outputs": [
        {
          "output_type": "stream",
          "name": "stdout",
          "text": [
            "Requirement already satisfied: nltk in /usr/local/lib/python3.10/dist-packages (3.8.1)\n",
            "Requirement already satisfied: click in /usr/local/lib/python3.10/dist-packages (from nltk) (8.1.7)\n",
            "Requirement already satisfied: joblib in /usr/local/lib/python3.10/dist-packages (from nltk) (1.3.2)\n",
            "Requirement already satisfied: regex>=2021.8.3 in /usr/local/lib/python3.10/dist-packages (from nltk) (2023.6.3)\n",
            "Requirement already satisfied: tqdm in /usr/local/lib/python3.10/dist-packages (from nltk) (4.66.1)\n",
            "Collecting indic-nlp-library\n",
            "  Downloading indic_nlp_library-0.92-py3-none-any.whl (40 kB)\n",
            "\u001b[2K     \u001b[90m━━━━━━━━━━━━━━━━━━━━━━━━━━━━━━━━━━━━━━━━\u001b[0m \u001b[32m40.3/40.3 kB\u001b[0m \u001b[31m2.7 MB/s\u001b[0m eta \u001b[36m0:00:00\u001b[0m\n",
            "\u001b[?25hCollecting sphinx-argparse (from indic-nlp-library)\n",
            "  Downloading sphinx_argparse-0.4.0-py3-none-any.whl (12 kB)\n",
            "Collecting sphinx-rtd-theme (from indic-nlp-library)\n",
            "  Downloading sphinx_rtd_theme-1.3.0-py2.py3-none-any.whl (2.8 MB)\n",
            "\u001b[2K     \u001b[90m━━━━━━━━━━━━━━━━━━━━━━━━━━━━━━━━━━━━━━━━\u001b[0m \u001b[32m2.8/2.8 MB\u001b[0m \u001b[31m38.5 MB/s\u001b[0m eta \u001b[36m0:00:00\u001b[0m\n",
            "\u001b[?25hCollecting morfessor (from indic-nlp-library)\n",
            "  Downloading Morfessor-2.0.6-py3-none-any.whl (35 kB)\n",
            "Requirement already satisfied: pandas in /usr/local/lib/python3.10/dist-packages (from indic-nlp-library) (1.5.3)\n",
            "Requirement already satisfied: numpy in /usr/local/lib/python3.10/dist-packages (from indic-nlp-library) (1.23.5)\n",
            "Requirement already satisfied: python-dateutil>=2.8.1 in /usr/local/lib/python3.10/dist-packages (from pandas->indic-nlp-library) (2.8.2)\n",
            "Requirement already satisfied: pytz>=2020.1 in /usr/local/lib/python3.10/dist-packages (from pandas->indic-nlp-library) (2023.3.post1)\n",
            "Requirement already satisfied: sphinx>=1.2.0 in /usr/local/lib/python3.10/dist-packages (from sphinx-argparse->indic-nlp-library) (5.0.2)\n",
            "Requirement already satisfied: docutils<0.19 in /usr/local/lib/python3.10/dist-packages (from sphinx-rtd-theme->indic-nlp-library) (0.18.1)\n",
            "Collecting sphinxcontrib-jquery<5,>=4 (from sphinx-rtd-theme->indic-nlp-library)\n",
            "  Downloading sphinxcontrib_jquery-4.1-py2.py3-none-any.whl (121 kB)\n",
            "\u001b[2K     \u001b[90m━━━━━━━━━━━━━━━━━━━━━━━━━━━━━━━━━━━━━━\u001b[0m \u001b[32m121.1/121.1 kB\u001b[0m \u001b[31m15.6 MB/s\u001b[0m eta \u001b[36m0:00:00\u001b[0m\n",
            "\u001b[?25hRequirement already satisfied: six>=1.5 in /usr/local/lib/python3.10/dist-packages (from python-dateutil>=2.8.1->pandas->indic-nlp-library) (1.16.0)\n",
            "Requirement already satisfied: sphinxcontrib-applehelp in /usr/local/lib/python3.10/dist-packages (from sphinx>=1.2.0->sphinx-argparse->indic-nlp-library) (1.0.7)\n",
            "Requirement already satisfied: sphinxcontrib-devhelp in /usr/local/lib/python3.10/dist-packages (from sphinx>=1.2.0->sphinx-argparse->indic-nlp-library) (1.0.5)\n",
            "Requirement already satisfied: sphinxcontrib-jsmath in /usr/local/lib/python3.10/dist-packages (from sphinx>=1.2.0->sphinx-argparse->indic-nlp-library) (1.0.1)\n",
            "Requirement already satisfied: sphinxcontrib-htmlhelp>=2.0.0 in /usr/local/lib/python3.10/dist-packages (from sphinx>=1.2.0->sphinx-argparse->indic-nlp-library) (2.0.4)\n",
            "Requirement already satisfied: sphinxcontrib-serializinghtml>=1.1.5 in /usr/local/lib/python3.10/dist-packages (from sphinx>=1.2.0->sphinx-argparse->indic-nlp-library) (1.1.9)\n",
            "Requirement already satisfied: sphinxcontrib-qthelp in /usr/local/lib/python3.10/dist-packages (from sphinx>=1.2.0->sphinx-argparse->indic-nlp-library) (1.0.6)\n",
            "Requirement already satisfied: Jinja2>=2.3 in /usr/local/lib/python3.10/dist-packages (from sphinx>=1.2.0->sphinx-argparse->indic-nlp-library) (3.1.2)\n",
            "Requirement already satisfied: Pygments>=2.0 in /usr/local/lib/python3.10/dist-packages (from sphinx>=1.2.0->sphinx-argparse->indic-nlp-library) (2.16.1)\n",
            "Requirement already satisfied: snowballstemmer>=1.1 in /usr/local/lib/python3.10/dist-packages (from sphinx>=1.2.0->sphinx-argparse->indic-nlp-library) (2.2.0)\n",
            "Requirement already satisfied: babel>=1.3 in /usr/local/lib/python3.10/dist-packages (from sphinx>=1.2.0->sphinx-argparse->indic-nlp-library) (2.13.0)\n",
            "Requirement already satisfied: alabaster<0.8,>=0.7 in /usr/local/lib/python3.10/dist-packages (from sphinx>=1.2.0->sphinx-argparse->indic-nlp-library) (0.7.13)\n",
            "Requirement already satisfied: imagesize in /usr/local/lib/python3.10/dist-packages (from sphinx>=1.2.0->sphinx-argparse->indic-nlp-library) (1.4.1)\n",
            "Requirement already satisfied: requests>=2.5.0 in /usr/local/lib/python3.10/dist-packages (from sphinx>=1.2.0->sphinx-argparse->indic-nlp-library) (2.31.0)\n",
            "Requirement already satisfied: packaging in /usr/local/lib/python3.10/dist-packages (from sphinx>=1.2.0->sphinx-argparse->indic-nlp-library) (23.2)\n",
            "Requirement already satisfied: MarkupSafe>=2.0 in /usr/local/lib/python3.10/dist-packages (from Jinja2>=2.3->sphinx>=1.2.0->sphinx-argparse->indic-nlp-library) (2.1.3)\n",
            "Requirement already satisfied: charset-normalizer<4,>=2 in /usr/local/lib/python3.10/dist-packages (from requests>=2.5.0->sphinx>=1.2.0->sphinx-argparse->indic-nlp-library) (3.3.0)\n",
            "Requirement already satisfied: idna<4,>=2.5 in /usr/local/lib/python3.10/dist-packages (from requests>=2.5.0->sphinx>=1.2.0->sphinx-argparse->indic-nlp-library) (3.4)\n",
            "Requirement already satisfied: urllib3<3,>=1.21.1 in /usr/local/lib/python3.10/dist-packages (from requests>=2.5.0->sphinx>=1.2.0->sphinx-argparse->indic-nlp-library) (2.0.6)\n",
            "Requirement already satisfied: certifi>=2017.4.17 in /usr/local/lib/python3.10/dist-packages (from requests>=2.5.0->sphinx>=1.2.0->sphinx-argparse->indic-nlp-library) (2023.7.22)\n",
            "Installing collected packages: morfessor, sphinxcontrib-jquery, sphinx-rtd-theme, sphinx-argparse, indic-nlp-library\n",
            "Successfully installed indic-nlp-library-0.92 morfessor-2.0.6 sphinx-argparse-0.4.0 sphinx-rtd-theme-1.3.0 sphinxcontrib-jquery-4.1\n"
          ]
        },
        {
          "output_type": "stream",
          "name": "stderr",
          "text": [
            "[nltk_data] Downloading package punkt to /root/nltk_data...\n",
            "[nltk_data]   Unzipping tokenizers/punkt.zip.\n"
          ]
        },
        {
          "output_type": "execute_result",
          "data": {
            "text/plain": [
              "True"
            ]
          },
          "metadata": {},
          "execution_count": 1
        }
      ],
      "source": [
        "\n",
        "!pip install nltk\n",
        "!pip install indic-nlp-library\n",
        "\n",
        "import nltk\n",
        "from nltk.tokenize import word_tokenize, sent_tokenize\n",
        "from indicnlp.tokenize import sentence_tokenize\n",
        "\n",
        "# Download nltk resources\n",
        "nltk.download('punkt')\n",
        "\n"
      ]
    },
    {
      "cell_type": "code",
      "source": [
        "# Hindi text paragraph\n",
        "hindi_text = \"\"\"\n",
        "सूरज की रौशनी से सजा नूर होता हैं। सुरेख समय के धारा में दौड़ता हैं जिन्दगी| जीवन का अर्थ हैं साहस और समर्पण।\n",
        "पन्नों की किताब अल्फाज़ों से सराबों से भरी हैं। कोई कहता हैं इसमें विश्वास रखने वाला अक्षर भी तैयार नहीं होता। पर मैं इसे दिल से खोल के पढ़ता हूँ।\n",
        "सभी अल्फाज़ मेरे दिल की धड़कन हैं। एक एक अक्षर इस दिल की दास्ताँ कहता हैं। समय ने बहुत कुछ सिखाया हैं।\n",
        "जिंदगी के रंग बहुत अलग-अलग होते हैं। समय का गुजर जाना तो समझ में आता हैं, लेकिन समय को गुजर जाना समझ में नहीं आता।\n",
        "पल भर के जीवन में कुछ पल दिल के करीब होते हैं, और यादों के सिलसिले कुछ पल यादों के करीब होते हैं।\n",
        "बीते पलों को बिताने के लिए अच्छे दोस्त चाहिए होते हैं। और आने वाले पलों को जीने के लिए सही दोस्त चाहिए होते हैं। जिंदगी एक सफर हैं सुहाना। कभी हस्ती हैं, कभी रुलाती हैं।\n",
        "यादों की धूप छाँव का सफर हैं। जिंदगी एक सफर हैं सुहाना।\n",
        "\"\"\"\n",
        "\n",
        "# Sentence tokenization using NLTK (English-based)\n",
        "sentences_nltk = sent_tokenize(hindi_text)\n",
        "\n",
        "# Sentence tokenization using Indic NLP Library (Hindi-based)\n",
        "sentences_indic_nlp = sentence_tokenize.sentence_split(hindi_text, lang='hi')\n",
        "\n",
        "# Word tokenization using NLTK (English-based)\n",
        "words_nltk = word_tokenize(hindi_text)\n",
        "\n",
        "# Word tokenization using Indic NLP Library (Hindi-based)\n",
        "# Note: We use space as a word separator for Indic NLP since it doesn't provide direct word_tokenize method.\n",
        "words_indic_nlp = hindi_text.split()\n",
        "\n",
        "# Print results\n",
        "print(\"Sentences (NLTK):\")\n",
        "for sentence in sentences_nltk:\n",
        "    print(sentence)\n",
        "\n",
        "print(\"\\nSentences (Indic NLP):\")\n",
        "for sentence in sentences_indic_nlp:\n",
        "    print(sentence)\n",
        "\n",
        "print(\"\\nWords (NLTK):\", words_nltk)\n",
        "\n",
        "print(\"\\nWords (Indic NLP):\", words_indic_nlp)"
      ],
      "metadata": {
        "id": "xXORSgxCy94s",
        "colab": {
          "base_uri": "https://localhost:8080/"
        },
        "outputId": "4ad3dcee-eb3b-4792-b3a1-caeda253ccbb"
      },
      "execution_count": null,
      "outputs": [
        {
          "output_type": "stream",
          "name": "stdout",
          "text": [
            "Sentences (NLTK):\n",
            "\n",
            "सूरज की रौशनी से सजा नूर होता हैं। सुरेख समय के धारा में दौड़ता हैं जिन्दगी| जीवन का अर्थ हैं साहस और समर्पण।\n",
            "पन्नों की किताब अल्फाज़ों से सराबों से भरी हैं। कोई कहता हैं इसमें विश्वास रखने वाला अक्षर भी तैयार नहीं होता। पर मैं इसे दिल से खोल के पढ़ता हूँ।\n",
            "सभी अल्फाज़ मेरे दिल की धड़कन हैं। एक एक अक्षर इस दिल की दास्ताँ कहता हैं। समय ने बहुत कुछ सिखाया हैं।\n",
            "जिंदगी के रंग बहुत अलग-अलग होते हैं। समय का गुजर जाना तो समझ में आता हैं, लेकिन समय को गुजर जाना समझ में नहीं आता।\n",
            "पल भर के जीवन में कुछ पल दिल के करीब होते हैं, और यादों के सिलसिले कुछ पल यादों के करीब होते हैं।\n",
            "बीते पलों को बिताने के लिए अच्छे दोस्त चाहिए होते हैं। और आने वाले पलों को जीने के लिए सही दोस्त चाहिए होते हैं। जिंदगी एक सफर हैं सुहाना। कभी हस्ती हैं, कभी रुलाती हैं।\n",
            "यादों की धूप छाँव का सफर हैं। जिंदगी एक सफर हैं सुहाना।\n",
            "\n",
            "Sentences (Indic NLP):\n",
            "सूरज की रौशनी से सजा नूर होता हैं।\n",
            "सुरेख समय के धारा में दौड़ता हैं जिन्दगी| जीवन का अर्थ हैं साहस और समर्पण।\n",
            "पन्नों की किताब अल्फाज़ों से सराबों से भरी हैं।\n",
            "कोई कहता हैं इसमें विश्वास रखने वाला अक्षर भी तैयार नहीं होता।\n",
            "पर मैं इसे दिल से खोल के पढ़ता हूँ।\n",
            "सभी अल्फाज़ मेरे दिल की धड़कन हैं।\n",
            "एक एक अक्षर इस दिल की दास्ताँ कहता हैं।\n",
            "समय ने बहुत कुछ सिखाया हैं।\n",
            "जिंदगी के रंग बहुत अलग-अलग होते हैं।\n",
            "समय का गुजर जाना तो समझ में आता हैं, लेकिन समय को गुजर जाना समझ में नहीं आता।\n",
            "पल भर के जीवन में कुछ पल दिल के करीब होते हैं, और यादों के सिलसिले कुछ पल यादों के करीब होते हैं।\n",
            "बीते पलों को बिताने के लिए अच्छे दोस्त चाहिए होते हैं।\n",
            "और आने वाले पलों को जीने के लिए सही दोस्त चाहिए होते हैं।\n",
            "जिंदगी एक सफर हैं सुहाना।\n",
            "कभी हस्ती हैं, कभी रुलाती हैं।\n",
            "यादों की धूप छाँव का सफर हैं।\n",
            "जिंदगी एक सफर हैं सुहाना।\n",
            "\n",
            "Words (NLTK): ['सूरज', 'की', 'रौशनी', 'से', 'सजा', 'नूर', 'होता', 'हैं।', 'सुरेख', 'समय', 'के', 'धारा', 'में', 'दौड़ता', 'हैं', 'जिन्दगी|', 'जीवन', 'का', 'अर्थ', 'हैं', 'साहस', 'और', 'समर्पण।', 'पन्नों', 'की', 'किताब', 'अल्फाज़ों', 'से', 'सराबों', 'से', 'भरी', 'हैं।', 'कोई', 'कहता', 'हैं', 'इसमें', 'विश्वास', 'रखने', 'वाला', 'अक्षर', 'भी', 'तैयार', 'नहीं', 'होता।', 'पर', 'मैं', 'इसे', 'दिल', 'से', 'खोल', 'के', 'पढ़ता', 'हूँ।', 'सभी', 'अल्फाज़', 'मेरे', 'दिल', 'की', 'धड़कन', 'हैं।', 'एक', 'एक', 'अक्षर', 'इस', 'दिल', 'की', 'दास्ताँ', 'कहता', 'हैं।', 'समय', 'ने', 'बहुत', 'कुछ', 'सिखाया', 'हैं।', 'जिंदगी', 'के', 'रंग', 'बहुत', 'अलग-अलग', 'होते', 'हैं।', 'समय', 'का', 'गुजर', 'जाना', 'तो', 'समझ', 'में', 'आता', 'हैं', ',', 'लेकिन', 'समय', 'को', 'गुजर', 'जाना', 'समझ', 'में', 'नहीं', 'आता।', 'पल', 'भर', 'के', 'जीवन', 'में', 'कुछ', 'पल', 'दिल', 'के', 'करीब', 'होते', 'हैं', ',', 'और', 'यादों', 'के', 'सिलसिले', 'कुछ', 'पल', 'यादों', 'के', 'करीब', 'होते', 'हैं।', 'बीते', 'पलों', 'को', 'बिताने', 'के', 'लिए', 'अच्छे', 'दोस्त', 'चाहिए', 'होते', 'हैं।', 'और', 'आने', 'वाले', 'पलों', 'को', 'जीने', 'के', 'लिए', 'सही', 'दोस्त', 'चाहिए', 'होते', 'हैं।', 'जिंदगी', 'एक', 'सफर', 'हैं', 'सुहाना।', 'कभी', 'हस्ती', 'हैं', ',', 'कभी', 'रुलाती', 'हैं।', 'यादों', 'की', 'धूप', 'छाँव', 'का', 'सफर', 'हैं।', 'जिंदगी', 'एक', 'सफर', 'हैं', 'सुहाना।']\n",
            "\n",
            "Words (Indic NLP): ['सूरज', 'की', 'रौशनी', 'से', 'सजा', 'नूर', 'होता', 'हैं।', 'सुरेख', 'समय', 'के', 'धारा', 'में', 'दौड़ता', 'हैं', 'जिन्दगी|', 'जीवन', 'का', 'अर्थ', 'हैं', 'साहस', 'और', 'समर्पण।', 'पन्नों', 'की', 'किताब', 'अल्फाज़ों', 'से', 'सराबों', 'से', 'भरी', 'हैं।', 'कोई', 'कहता', 'हैं', 'इसमें', 'विश्वास', 'रखने', 'वाला', 'अक्षर', 'भी', 'तैयार', 'नहीं', 'होता।', 'पर', 'मैं', 'इसे', 'दिल', 'से', 'खोल', 'के', 'पढ़ता', 'हूँ।', 'सभी', 'अल्फाज़', 'मेरे', 'दिल', 'की', 'धड़कन', 'हैं।', 'एक', 'एक', 'अक्षर', 'इस', 'दिल', 'की', 'दास्ताँ', 'कहता', 'हैं।', 'समय', 'ने', 'बहुत', 'कुछ', 'सिखाया', 'हैं।', 'जिंदगी', 'के', 'रंग', 'बहुत', 'अलग-अलग', 'होते', 'हैं।', 'समय', 'का', 'गुजर', 'जाना', 'तो', 'समझ', 'में', 'आता', 'हैं,', 'लेकिन', 'समय', 'को', 'गुजर', 'जाना', 'समझ', 'में', 'नहीं', 'आता।', 'पल', 'भर', 'के', 'जीवन', 'में', 'कुछ', 'पल', 'दिल', 'के', 'करीब', 'होते', 'हैं,', 'और', 'यादों', 'के', 'सिलसिले', 'कुछ', 'पल', 'यादों', 'के', 'करीब', 'होते', 'हैं।', 'बीते', 'पलों', 'को', 'बिताने', 'के', 'लिए', 'अच्छे', 'दोस्त', 'चाहिए', 'होते', 'हैं।', 'और', 'आने', 'वाले', 'पलों', 'को', 'जीने', 'के', 'लिए', 'सही', 'दोस्त', 'चाहिए', 'होते', 'हैं।', 'जिंदगी', 'एक', 'सफर', 'हैं', 'सुहाना।', 'कभी', 'हस्ती', 'हैं,', 'कभी', 'रुलाती', 'हैं।', 'यादों', 'की', 'धूप', 'छाँव', 'का', 'सफर', 'हैं।', 'जिंदगी', 'एक', 'सफर', 'हैं', 'सुहाना।']\n"
          ]
        }
      ]
    }
  ]
}