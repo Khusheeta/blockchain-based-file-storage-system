{
  "nbformat": 4,
  "nbformat_minor": 0,
  "metadata": {
    "colab": {
      "provenance": []
    },
    "kernelspec": {
      "name": "python3",
      "display_name": "Python 3"
    },
    "language_info": {
      "name": "python"
    }
  },
  "cells": [
    {
      "cell_type": "markdown",
      "source": [
        "##Name:- Abhay Chheda\n",
        "\n",
        "##Class:- BE3\n",
        "\n",
        "##Batch:- A\n",
        "\n",
        "##Rollno:- 9\n",
        "\n",
        "##Subject:- NLP\n",
        "\n",
        "##EXPERIMENT:- 2\n",
        "\n",
        "##AIM:- Stop-word Removal\n"
      ],
      "metadata": {
        "id": "GtHSec7Pl8ek"
      }
    },
    {
      "cell_type": "code",
      "source": [
        "!pip install nltk\n",
        "!pip install indic-nlp-library\n",
        "!pip install advertools"
      ],
      "metadata": {
        "colab": {
          "base_uri": "https://localhost:8080/"
        },
        "id": "zTvIolCQzNRi",
        "outputId": "c75c655a-261e-4fd0-f95b-300ee2720972"
      },
      "execution_count": null,
      "outputs": [
        {
          "output_type": "stream",
          "name": "stdout",
          "text": [
            "Requirement already satisfied: nltk in /usr/local/lib/python3.10/dist-packages (3.8.1)\n",
            "Requirement already satisfied: click in /usr/local/lib/python3.10/dist-packages (from nltk) (8.1.7)\n",
            "Requirement already satisfied: joblib in /usr/local/lib/python3.10/dist-packages (from nltk) (1.3.2)\n",
            "Requirement already satisfied: regex>=2021.8.3 in /usr/local/lib/python3.10/dist-packages (from nltk) (2023.6.3)\n",
            "Requirement already satisfied: tqdm in /usr/local/lib/python3.10/dist-packages (from nltk) (4.66.1)\n",
            "Collecting indic-nlp-library\n",
            "  Downloading indic_nlp_library-0.92-py3-none-any.whl (40 kB)\n",
            "\u001b[2K     \u001b[90m━━━━━━━━━━━━━━━━━━━━━━━━━━━━━━━━━━━━━━━━\u001b[0m \u001b[32m40.3/40.3 kB\u001b[0m \u001b[31m2.3 MB/s\u001b[0m eta \u001b[36m0:00:00\u001b[0m\n",
            "\u001b[?25hCollecting sphinx-argparse (from indic-nlp-library)\n",
            "  Downloading sphinx_argparse-0.4.0-py3-none-any.whl (12 kB)\n",
            "Collecting sphinx-rtd-theme (from indic-nlp-library)\n",
            "  Downloading sphinx_rtd_theme-1.3.0-py2.py3-none-any.whl (2.8 MB)\n",
            "\u001b[2K     \u001b[90m━━━━━━━━━━━━━━━━━━━━━━━━━━━━━━━━━━━━━━━━\u001b[0m \u001b[32m2.8/2.8 MB\u001b[0m \u001b[31m48.6 MB/s\u001b[0m eta \u001b[36m0:00:00\u001b[0m\n",
            "\u001b[?25hCollecting morfessor (from indic-nlp-library)\n",
            "  Downloading Morfessor-2.0.6-py3-none-any.whl (35 kB)\n",
            "Requirement already satisfied: pandas in /usr/local/lib/python3.10/dist-packages (from indic-nlp-library) (1.5.3)\n",
            "Requirement already satisfied: numpy in /usr/local/lib/python3.10/dist-packages (from indic-nlp-library) (1.23.5)\n",
            "Requirement already satisfied: python-dateutil>=2.8.1 in /usr/local/lib/python3.10/dist-packages (from pandas->indic-nlp-library) (2.8.2)\n",
            "Requirement already satisfied: pytz>=2020.1 in /usr/local/lib/python3.10/dist-packages (from pandas->indic-nlp-library) (2023.3.post1)\n",
            "Requirement already satisfied: sphinx>=1.2.0 in /usr/local/lib/python3.10/dist-packages (from sphinx-argparse->indic-nlp-library) (5.0.2)\n",
            "Requirement already satisfied: docutils<0.19 in /usr/local/lib/python3.10/dist-packages (from sphinx-rtd-theme->indic-nlp-library) (0.18.1)\n",
            "Collecting sphinxcontrib-jquery<5,>=4 (from sphinx-rtd-theme->indic-nlp-library)\n",
            "  Downloading sphinxcontrib_jquery-4.1-py2.py3-none-any.whl (121 kB)\n",
            "\u001b[2K     \u001b[90m━━━━━━━━━━━━━━━━━━━━━━━━━━━━━━━━━━━━━━\u001b[0m \u001b[32m121.1/121.1 kB\u001b[0m \u001b[31m15.4 MB/s\u001b[0m eta \u001b[36m0:00:00\u001b[0m\n",
            "\u001b[?25hRequirement already satisfied: six>=1.5 in /usr/local/lib/python3.10/dist-packages (from python-dateutil>=2.8.1->pandas->indic-nlp-library) (1.16.0)\n",
            "Requirement already satisfied: sphinxcontrib-applehelp in /usr/local/lib/python3.10/dist-packages (from sphinx>=1.2.0->sphinx-argparse->indic-nlp-library) (1.0.7)\n",
            "Requirement already satisfied: sphinxcontrib-devhelp in /usr/local/lib/python3.10/dist-packages (from sphinx>=1.2.0->sphinx-argparse->indic-nlp-library) (1.0.5)\n",
            "Requirement already satisfied: sphinxcontrib-jsmath in /usr/local/lib/python3.10/dist-packages (from sphinx>=1.2.0->sphinx-argparse->indic-nlp-library) (1.0.1)\n",
            "Requirement already satisfied: sphinxcontrib-htmlhelp>=2.0.0 in /usr/local/lib/python3.10/dist-packages (from sphinx>=1.2.0->sphinx-argparse->indic-nlp-library) (2.0.4)\n",
            "Requirement already satisfied: sphinxcontrib-serializinghtml>=1.1.5 in /usr/local/lib/python3.10/dist-packages (from sphinx>=1.2.0->sphinx-argparse->indic-nlp-library) (1.1.9)\n",
            "Requirement already satisfied: sphinxcontrib-qthelp in /usr/local/lib/python3.10/dist-packages (from sphinx>=1.2.0->sphinx-argparse->indic-nlp-library) (1.0.6)\n",
            "Requirement already satisfied: Jinja2>=2.3 in /usr/local/lib/python3.10/dist-packages (from sphinx>=1.2.0->sphinx-argparse->indic-nlp-library) (3.1.2)\n",
            "Requirement already satisfied: Pygments>=2.0 in /usr/local/lib/python3.10/dist-packages (from sphinx>=1.2.0->sphinx-argparse->indic-nlp-library) (2.16.1)\n",
            "Requirement already satisfied: snowballstemmer>=1.1 in /usr/local/lib/python3.10/dist-packages (from sphinx>=1.2.0->sphinx-argparse->indic-nlp-library) (2.2.0)\n",
            "Requirement already satisfied: babel>=1.3 in /usr/local/lib/python3.10/dist-packages (from sphinx>=1.2.0->sphinx-argparse->indic-nlp-library) (2.13.0)\n",
            "Requirement already satisfied: alabaster<0.8,>=0.7 in /usr/local/lib/python3.10/dist-packages (from sphinx>=1.2.0->sphinx-argparse->indic-nlp-library) (0.7.13)\n",
            "Requirement already satisfied: imagesize in /usr/local/lib/python3.10/dist-packages (from sphinx>=1.2.0->sphinx-argparse->indic-nlp-library) (1.4.1)\n",
            "Requirement already satisfied: requests>=2.5.0 in /usr/local/lib/python3.10/dist-packages (from sphinx>=1.2.0->sphinx-argparse->indic-nlp-library) (2.31.0)\n",
            "Requirement already satisfied: packaging in /usr/local/lib/python3.10/dist-packages (from sphinx>=1.2.0->sphinx-argparse->indic-nlp-library) (23.2)\n",
            "Requirement already satisfied: MarkupSafe>=2.0 in /usr/local/lib/python3.10/dist-packages (from Jinja2>=2.3->sphinx>=1.2.0->sphinx-argparse->indic-nlp-library) (2.1.3)\n",
            "Requirement already satisfied: charset-normalizer<4,>=2 in /usr/local/lib/python3.10/dist-packages (from requests>=2.5.0->sphinx>=1.2.0->sphinx-argparse->indic-nlp-library) (3.3.0)\n",
            "Requirement already satisfied: idna<4,>=2.5 in /usr/local/lib/python3.10/dist-packages (from requests>=2.5.0->sphinx>=1.2.0->sphinx-argparse->indic-nlp-library) (3.4)\n",
            "Requirement already satisfied: urllib3<3,>=1.21.1 in /usr/local/lib/python3.10/dist-packages (from requests>=2.5.0->sphinx>=1.2.0->sphinx-argparse->indic-nlp-library) (2.0.6)\n",
            "Requirement already satisfied: certifi>=2017.4.17 in /usr/local/lib/python3.10/dist-packages (from requests>=2.5.0->sphinx>=1.2.0->sphinx-argparse->indic-nlp-library) (2023.7.22)\n",
            "Installing collected packages: morfessor, sphinxcontrib-jquery, sphinx-rtd-theme, sphinx-argparse, indic-nlp-library\n",
            "Successfully installed indic-nlp-library-0.92 morfessor-2.0.6 sphinx-argparse-0.4.0 sphinx-rtd-theme-1.3.0 sphinxcontrib-jquery-4.1\n",
            "Collecting advertools\n",
            "  Downloading advertools-0.13.5-py2.py3-none-any.whl (312 kB)\n",
            "\u001b[2K     \u001b[90m━━━━━━━━━━━━━━━━━━━━━━━━━━━━━━━━━━━━━━━\u001b[0m \u001b[32m312.1/312.1 kB\u001b[0m \u001b[31m6.6 MB/s\u001b[0m eta \u001b[36m0:00:00\u001b[0m\n",
            "\u001b[?25hRequirement already satisfied: pandas>=1.1.0 in /usr/local/lib/python3.10/dist-packages (from advertools) (1.5.3)\n",
            "Requirement already satisfied: pyasn1>=0.4 in /usr/local/lib/python3.10/dist-packages (from advertools) (0.5.0)\n",
            "Collecting scrapy>=2.5.0 (from advertools)\n",
            "  Downloading Scrapy-2.11.0-py2.py3-none-any.whl (286 kB)\n",
            "\u001b[2K     \u001b[90m━━━━━━━━━━━━━━━━━━━━━━━━━━━━━━━━━━━━━━\u001b[0m \u001b[32m286.4/286.4 kB\u001b[0m \u001b[31m30.1 MB/s\u001b[0m eta \u001b[36m0:00:00\u001b[0m\n",
            "\u001b[?25hCollecting twython>=3.8.0 (from advertools)\n",
            "  Downloading twython-3.9.1-py3-none-any.whl (33 kB)\n",
            "Requirement already satisfied: pyarrow>=5.0.0 in /usr/local/lib/python3.10/dist-packages (from advertools) (9.0.0)\n",
            "Requirement already satisfied: python-dateutil>=2.8.1 in /usr/local/lib/python3.10/dist-packages (from pandas>=1.1.0->advertools) (2.8.2)\n",
            "Requirement already satisfied: pytz>=2020.1 in /usr/local/lib/python3.10/dist-packages (from pandas>=1.1.0->advertools) (2023.3.post1)\n",
            "Requirement already satisfied: numpy>=1.21.0 in /usr/local/lib/python3.10/dist-packages (from pandas>=1.1.0->advertools) (1.23.5)\n",
            "Collecting Twisted<23.8.0,>=18.9.0 (from scrapy>=2.5.0->advertools)\n",
            "  Downloading Twisted-22.10.0-py3-none-any.whl (3.1 MB)\n",
            "\u001b[2K     \u001b[90m━━━━━━━━━━━━━━━━━━━━━━━━━━━━━━━━━━━━━━━━\u001b[0m \u001b[32m3.1/3.1 MB\u001b[0m \u001b[31m71.5 MB/s\u001b[0m eta \u001b[36m0:00:00\u001b[0m\n",
            "\u001b[?25hRequirement already satisfied: cryptography>=36.0.0 in /usr/local/lib/python3.10/dist-packages (from scrapy>=2.5.0->advertools) (41.0.4)\n",
            "Collecting cssselect>=0.9.1 (from scrapy>=2.5.0->advertools)\n",
            "  Downloading cssselect-1.2.0-py2.py3-none-any.whl (18 kB)\n",
            "Collecting itemloaders>=1.0.1 (from scrapy>=2.5.0->advertools)\n",
            "  Downloading itemloaders-1.1.0-py3-none-any.whl (11 kB)\n",
            "Collecting parsel>=1.5.0 (from scrapy>=2.5.0->advertools)\n",
            "  Downloading parsel-1.8.1-py2.py3-none-any.whl (17 kB)\n",
            "Requirement already satisfied: pyOpenSSL>=21.0.0 in /usr/local/lib/python3.10/dist-packages (from scrapy>=2.5.0->advertools) (23.2.0)\n",
            "Collecting queuelib>=1.4.2 (from scrapy>=2.5.0->advertools)\n",
            "  Downloading queuelib-1.6.2-py2.py3-none-any.whl (13 kB)\n",
            "Collecting service-identity>=18.1.0 (from scrapy>=2.5.0->advertools)\n",
            "  Downloading service_identity-23.1.0-py3-none-any.whl (12 kB)\n",
            "Collecting w3lib>=1.17.0 (from scrapy>=2.5.0->advertools)\n",
            "  Downloading w3lib-2.1.2-py3-none-any.whl (21 kB)\n",
            "Collecting zope.interface>=5.1.0 (from scrapy>=2.5.0->advertools)\n",
            "  Downloading zope.interface-6.1-cp310-cp310-manylinux_2_5_x86_64.manylinux1_x86_64.manylinux_2_17_x86_64.manylinux2014_x86_64.whl (247 kB)\n",
            "\u001b[2K     \u001b[90m━━━━━━━━━━━━━━━━━━━━━━━━━━━━━━━━━━━━━━\u001b[0m \u001b[32m247.1/247.1 kB\u001b[0m \u001b[31m23.7 MB/s\u001b[0m eta \u001b[36m0:00:00\u001b[0m\n",
            "\u001b[?25hCollecting protego>=0.1.15 (from scrapy>=2.5.0->advertools)\n",
            "  Downloading Protego-0.3.0-py2.py3-none-any.whl (8.5 kB)\n",
            "Collecting itemadapter>=0.1.0 (from scrapy>=2.5.0->advertools)\n",
            "  Downloading itemadapter-0.8.0-py3-none-any.whl (11 kB)\n",
            "Requirement already satisfied: setuptools in /usr/local/lib/python3.10/dist-packages (from scrapy>=2.5.0->advertools) (67.7.2)\n",
            "Requirement already satisfied: packaging in /usr/local/lib/python3.10/dist-packages (from scrapy>=2.5.0->advertools) (23.2)\n",
            "Collecting tldextract (from scrapy>=2.5.0->advertools)\n",
            "  Downloading tldextract-5.0.0-py3-none-any.whl (96 kB)\n",
            "\u001b[2K     \u001b[90m━━━━━━━━━━━━━━━━━━━━━━━━━━━━━━━━━━━━━━━━\u001b[0m \u001b[32m97.0/97.0 kB\u001b[0m \u001b[31m10.7 MB/s\u001b[0m eta \u001b[36m0:00:00\u001b[0m\n",
            "\u001b[?25hRequirement already satisfied: lxml>=4.4.1 in /usr/local/lib/python3.10/dist-packages (from scrapy>=2.5.0->advertools) (4.9.3)\n",
            "Collecting PyDispatcher>=2.0.5 (from scrapy>=2.5.0->advertools)\n",
            "  Downloading PyDispatcher-2.0.7-py3-none-any.whl (12 kB)\n",
            "Requirement already satisfied: requests>=2.1.0 in /usr/local/lib/python3.10/dist-packages (from twython>=3.8.0->advertools) (2.31.0)\n",
            "Requirement already satisfied: requests-oauthlib>=0.4.0 in /usr/local/lib/python3.10/dist-packages (from twython>=3.8.0->advertools) (1.3.1)\n",
            "Requirement already satisfied: cffi>=1.12 in /usr/local/lib/python3.10/dist-packages (from cryptography>=36.0.0->scrapy>=2.5.0->advertools) (1.16.0)\n",
            "Collecting jmespath>=0.9.5 (from itemloaders>=1.0.1->scrapy>=2.5.0->advertools)\n",
            "  Downloading jmespath-1.0.1-py3-none-any.whl (20 kB)\n",
            "Requirement already satisfied: six>=1.5 in /usr/local/lib/python3.10/dist-packages (from python-dateutil>=2.8.1->pandas>=1.1.0->advertools) (1.16.0)\n",
            "Requirement already satisfied: charset-normalizer<4,>=2 in /usr/local/lib/python3.10/dist-packages (from requests>=2.1.0->twython>=3.8.0->advertools) (3.3.0)\n",
            "Requirement already satisfied: idna<4,>=2.5 in /usr/local/lib/python3.10/dist-packages (from requests>=2.1.0->twython>=3.8.0->advertools) (3.4)\n",
            "Requirement already satisfied: urllib3<3,>=1.21.1 in /usr/local/lib/python3.10/dist-packages (from requests>=2.1.0->twython>=3.8.0->advertools) (2.0.6)\n",
            "Requirement already satisfied: certifi>=2017.4.17 in /usr/local/lib/python3.10/dist-packages (from requests>=2.1.0->twython>=3.8.0->advertools) (2023.7.22)\n",
            "Requirement already satisfied: oauthlib>=3.0.0 in /usr/local/lib/python3.10/dist-packages (from requests-oauthlib>=0.4.0->twython>=3.8.0->advertools) (3.2.2)\n",
            "Requirement already satisfied: attrs>=19.1.0 in /usr/local/lib/python3.10/dist-packages (from service-identity>=18.1.0->scrapy>=2.5.0->advertools) (23.1.0)\n",
            "Requirement already satisfied: pyasn1-modules in /usr/local/lib/python3.10/dist-packages (from service-identity>=18.1.0->scrapy>=2.5.0->advertools) (0.3.0)\n",
            "Collecting constantly>=15.1 (from Twisted<23.8.0,>=18.9.0->scrapy>=2.5.0->advertools)\n",
            "  Downloading constantly-15.1.0-py2.py3-none-any.whl (7.9 kB)\n",
            "Collecting incremental>=21.3.0 (from Twisted<23.8.0,>=18.9.0->scrapy>=2.5.0->advertools)\n",
            "  Downloading incremental-22.10.0-py2.py3-none-any.whl (16 kB)\n",
            "Collecting Automat>=0.8.0 (from Twisted<23.8.0,>=18.9.0->scrapy>=2.5.0->advertools)\n",
            "  Downloading Automat-22.10.0-py2.py3-none-any.whl (26 kB)\n",
            "Collecting hyperlink>=17.1.1 (from Twisted<23.8.0,>=18.9.0->scrapy>=2.5.0->advertools)\n",
            "  Downloading hyperlink-21.0.0-py2.py3-none-any.whl (74 kB)\n",
            "\u001b[2K     \u001b[90m━━━━━━━━━━━━━━━━━━━━━━━━━━━━━━━━━━━━━━━━\u001b[0m \u001b[32m74.6/74.6 kB\u001b[0m \u001b[31m7.5 MB/s\u001b[0m eta \u001b[36m0:00:00\u001b[0m\n",
            "\u001b[?25hRequirement already satisfied: typing-extensions>=3.6.5 in /usr/local/lib/python3.10/dist-packages (from Twisted<23.8.0,>=18.9.0->scrapy>=2.5.0->advertools) (4.5.0)\n",
            "Collecting requests-file>=1.4 (from tldextract->scrapy>=2.5.0->advertools)\n",
            "  Downloading requests_file-1.5.1-py2.py3-none-any.whl (3.7 kB)\n",
            "Requirement already satisfied: filelock>=3.0.8 in /usr/local/lib/python3.10/dist-packages (from tldextract->scrapy>=2.5.0->advertools) (3.12.4)\n",
            "Requirement already satisfied: pycparser in /usr/local/lib/python3.10/dist-packages (from cffi>=1.12->cryptography>=36.0.0->scrapy>=2.5.0->advertools) (2.21)\n",
            "Installing collected packages: PyDispatcher, incremental, constantly, zope.interface, w3lib, queuelib, protego, jmespath, itemadapter, hyperlink, cssselect, Automat, Twisted, requests-file, parsel, twython, tldextract, service-identity, itemloaders, scrapy, advertools\n",
            "Successfully installed Automat-22.10.0 PyDispatcher-2.0.7 Twisted-22.10.0 advertools-0.13.5 constantly-15.1.0 cssselect-1.2.0 hyperlink-21.0.0 incremental-22.10.0 itemadapter-0.8.0 itemloaders-1.1.0 jmespath-1.0.1 parsel-1.8.1 protego-0.3.0 queuelib-1.6.2 requests-file-1.5.1 scrapy-2.11.0 service-identity-23.1.0 tldextract-5.0.0 twython-3.9.1 w3lib-2.1.2 zope.interface-6.1\n"
          ]
        }
      ]
    },
    {
      "cell_type": "code",
      "execution_count": null,
      "metadata": {
        "id": "kpJlgyFNwcSC",
        "colab": {
          "base_uri": "https://localhost:8080/"
        },
        "outputId": "8c5a1d11-27e8-4d75-d39f-a3d0cc262127"
      },
      "outputs": [
        {
          "output_type": "stream",
          "name": "stderr",
          "text": [
            "[nltk_data] Downloading package punkt to /root/nltk_data...\n",
            "[nltk_data]   Unzipping tokenizers/punkt.zip.\n"
          ]
        },
        {
          "output_type": "execute_result",
          "data": {
            "text/plain": [
              "['Hello', 'everyone', '.', 'Welcome', 'to', 'Sakec', '.']"
            ]
          },
          "metadata": {},
          "execution_count": 6
        }
      ],
      "source": [
        "from nltk.tokenize import word_tokenize\n",
        "import nltk\n",
        "nltk.download('punkt')\n",
        "text = \"Hello everyone. Welcome to Sakec.\"\n",
        "word_tokenize(text)\n",
        "\n"
      ]
    },
    {
      "cell_type": "code",
      "source": [
        "from nltk.tokenize import sent_tokenize\n",
        "\n",
        "text = \"Hello everyone. Welcome to Sakec. You are studying NLP article\"\n",
        "sent_tokenize(text)\n"
      ],
      "metadata": {
        "id": "52GZw7SpyJPD",
        "colab": {
          "base_uri": "https://localhost:8080/"
        },
        "outputId": "41188f0a-2bcc-4ac7-e71d-745d1bc01ba8"
      },
      "execution_count": null,
      "outputs": [
        {
          "output_type": "execute_result",
          "data": {
            "text/plain": [
              "['Hello everyone.', 'Welcome to Sakec.', 'You are studying NLP article']"
            ]
          },
          "metadata": {},
          "execution_count": 7
        }
      ]
    },
    {
      "cell_type": "code",
      "source": [
        "from indicnlp.tokenize import sentence_tokenize\n",
        "hindi_text = \"\"\"\n",
        "सूरज की रौशनी से सजा नूर होता हैं। सुरेख समय के धारा में दौड़ता हैं जिन्दगी| जीवन का अर्थ हैं साहस और समर्पण।\n",
        "पन्नों की किताब अल्फाज़ों से सराबों से भरी हैं। कोई कहता हैं इसमें विश्वास रखने वाला अक्षर भी तैयार नहीं होता। पर मैं इसे दिल से खोल के पढ़ता हूँ।\n",
        "सभी अल्फाज़ मेरे दिल की धड़कन हैं। एक एक अक्षर इस दिल की दास्ताँ कहता हैं। समय ने बहुत कुछ सिखाया हैं।\n",
        "जिंदगी के रंग बहुत अलग-अलग होते हैं। समय का गुजर जाना तो समझ में आता हैं, लेकिन समय को गुजर जाना समझ में नहीं आता।\n",
        "पल भर के जीवन में कुछ पल दिल के करीब होते हैं, और यादों के सिलसिले कुछ पल यादों के करीब होते हैं।\n",
        "बीते पलों को बिताने के लिए अच्छे दोस्त चाहिए होते हैं। और आने वाले पलों को जीने के लिए सही दोस्त चाहिए होते हैं। जिंदगी एक सफर हैं सुहाना। कभी हस्ती हैं, कभी रुलाती हैं।\n",
        "यादों की धूप छाँव का सफर हैं। जिंदगी एक सफर हैं सुहाना।\n",
        "\"\"\"\n",
        "sentences_indic_nlp = sentence_tokenize.sentence_split(hindi_text, lang='hi')\n",
        "words_indic_nlp = hindi_text.split()\n",
        "print(sentences_indic_nlp)\n",
        "print(words_indic_nlp)"
      ],
      "metadata": {
        "id": "GP81WNdvyLCQ",
        "colab": {
          "base_uri": "https://localhost:8080/"
        },
        "outputId": "1f90444e-e09f-4d81-f107-24383c5f7d5e"
      },
      "execution_count": null,
      "outputs": [
        {
          "output_type": "stream",
          "name": "stdout",
          "text": [
            "['सूरज की रौशनी से सजा नूर होता हैं।', 'सुरेख समय के धारा में दौड़ता हैं जिन्दगी| जीवन का अर्थ हैं साहस और समर्पण।', 'पन्नों की किताब अल्फाज़ों से सराबों से भरी हैं।', 'कोई कहता हैं इसमें विश्वास रखने वाला अक्षर भी तैयार नहीं होता।', 'पर मैं इसे दिल से खोल के पढ़ता हूँ।', 'सभी अल्फाज़ मेरे दिल की धड़कन हैं।', 'एक एक अक्षर इस दिल की दास्ताँ कहता हैं।', 'समय ने बहुत कुछ सिखाया हैं।', 'जिंदगी के रंग बहुत अलग-अलग होते हैं।', 'समय का गुजर जाना तो समझ में आता हैं, लेकिन समय को गुजर जाना समझ में नहीं आता।', 'पल भर के जीवन में कुछ पल दिल के करीब होते हैं, और यादों के सिलसिले कुछ पल यादों के करीब होते हैं।', 'बीते पलों को बिताने के लिए अच्छे दोस्त चाहिए होते हैं।', 'और आने वाले पलों को जीने के लिए सही दोस्त चाहिए होते हैं।', 'जिंदगी एक सफर हैं सुहाना।', 'कभी हस्ती हैं, कभी रुलाती हैं।', 'यादों की धूप छाँव का सफर हैं।', 'जिंदगी एक सफर हैं सुहाना।']\n",
            "['सूरज', 'की', 'रौशनी', 'से', 'सजा', 'नूर', 'होता', 'हैं।', 'सुरेख', 'समय', 'के', 'धारा', 'में', 'दौड़ता', 'हैं', 'जिन्दगी|', 'जीवन', 'का', 'अर्थ', 'हैं', 'साहस', 'और', 'समर्पण।', 'पन्नों', 'की', 'किताब', 'अल्फाज़ों', 'से', 'सराबों', 'से', 'भरी', 'हैं।', 'कोई', 'कहता', 'हैं', 'इसमें', 'विश्वास', 'रखने', 'वाला', 'अक्षर', 'भी', 'तैयार', 'नहीं', 'होता।', 'पर', 'मैं', 'इसे', 'दिल', 'से', 'खोल', 'के', 'पढ़ता', 'हूँ।', 'सभी', 'अल्फाज़', 'मेरे', 'दिल', 'की', 'धड़कन', 'हैं।', 'एक', 'एक', 'अक्षर', 'इस', 'दिल', 'की', 'दास्ताँ', 'कहता', 'हैं।', 'समय', 'ने', 'बहुत', 'कुछ', 'सिखाया', 'हैं।', 'जिंदगी', 'के', 'रंग', 'बहुत', 'अलग-अलग', 'होते', 'हैं।', 'समय', 'का', 'गुजर', 'जाना', 'तो', 'समझ', 'में', 'आता', 'हैं,', 'लेकिन', 'समय', 'को', 'गुजर', 'जाना', 'समझ', 'में', 'नहीं', 'आता।', 'पल', 'भर', 'के', 'जीवन', 'में', 'कुछ', 'पल', 'दिल', 'के', 'करीब', 'होते', 'हैं,', 'और', 'यादों', 'के', 'सिलसिले', 'कुछ', 'पल', 'यादों', 'के', 'करीब', 'होते', 'हैं।', 'बीते', 'पलों', 'को', 'बिताने', 'के', 'लिए', 'अच्छे', 'दोस्त', 'चाहिए', 'होते', 'हैं।', 'और', 'आने', 'वाले', 'पलों', 'को', 'जीने', 'के', 'लिए', 'सही', 'दोस्त', 'चाहिए', 'होते', 'हैं।', 'जिंदगी', 'एक', 'सफर', 'हैं', 'सुहाना।', 'कभी', 'हस्ती', 'हैं,', 'कभी', 'रुलाती', 'हैं।', 'यादों', 'की', 'धूप', 'छाँव', 'का', 'सफर', 'हैं।', 'जिंदगी', 'एक', 'सफर', 'हैं', 'सुहाना।']\n"
          ]
        }
      ]
    },
    {
      "cell_type": "code",
      "source": [
        "from indicnlp.tokenize import sentence_tokenize\n",
        "import advertools as adv\n",
        "# adv.stopwords.keys()\n",
        "array = adv.stopwords['hindi']\n",
        "hindi_text = \"\"\"\n",
        "सूरज की रौशनी से सजा नूर होता हैं। सुरेख समय के धारा में दौड़ता हैं जिन्दगी| जीवन का अर्थ हैं साहस और समर्पण।\n",
        "पन्नों की किताब अल्फाज़ों से सराबों से भरी हैं। कोई कहता हैं इसमें विश्वास रखने वाला अक्षर भी तैयार नहीं होता। पर मैं इसे दिल से खोल के पढ़ता हूँ।\n",
        "सभी अल्फाज़ मेरे दिल की धड़कन हैं। एक एक अक्षर इस दिल की दास्ताँ कहता हैं। समय ने बहुत कुछ सिखाया हैं।\n",
        "जिंदगी के रंग बहुत अलग-अलग होते हैं। समय का गुजर जाना तो समझ में आता हैं, लेकिन समय को गुजर जाना समझ में नहीं आता।\n",
        "पल भर के जीवन में कुछ पल दिल के करीब होते हैं, और यादों के सिलसिले कुछ पल यादों के करीब होते हैं।\n",
        "बीते पलों को बिताने के लिए अच्छे दोस्त चाहिए होते हैं। और आने वाले पलों को जीने के लिए सही दोस्त चाहिए होते हैं। जिंदगी एक सफर हैं सुहाना। कभी हस्ती हैं, कभी रुलाती हैं।\n",
        "यादों की धूप छाँव का सफर हैं। जिंदगी एक सफर हैं सुहाना।\n",
        "\"\"\"\n",
        "sentences_indic_nlp = sentence_tokenize.sentence_split(hindi_text, lang='hi')\n",
        "words_indic_nlp = hindi_text.split()\n",
        "print(words_indic_nlp)\n",
        "for i in words_indic_nlp:\n",
        "  if i in array:\n",
        "    words_indic_nlp.remove(i)\n",
        "print(words_indic_nlp)"
      ],
      "metadata": {
        "id": "T-kelp4syOTJ",
        "colab": {
          "base_uri": "https://localhost:8080/"
        },
        "outputId": "7382df7f-b79c-49f7-ccba-77be496297c5"
      },
      "execution_count": null,
      "outputs": [
        {
          "output_type": "stream",
          "name": "stdout",
          "text": [
            "['सूरज', 'की', 'रौशनी', 'से', 'सजा', 'नूर', 'होता', 'हैं।', 'सुरेख', 'समय', 'के', 'धारा', 'में', 'दौड़ता', 'हैं', 'जिन्दगी|', 'जीवन', 'का', 'अर्थ', 'हैं', 'साहस', 'और', 'समर्पण।', 'पन्नों', 'की', 'किताब', 'अल्फाज़ों', 'से', 'सराबों', 'से', 'भरी', 'हैं।', 'कोई', 'कहता', 'हैं', 'इसमें', 'विश्वास', 'रखने', 'वाला', 'अक्षर', 'भी', 'तैयार', 'नहीं', 'होता।', 'पर', 'मैं', 'इसे', 'दिल', 'से', 'खोल', 'के', 'पढ़ता', 'हूँ।', 'सभी', 'अल्फाज़', 'मेरे', 'दिल', 'की', 'धड़कन', 'हैं।', 'एक', 'एक', 'अक्षर', 'इस', 'दिल', 'की', 'दास्ताँ', 'कहता', 'हैं।', 'समय', 'ने', 'बहुत', 'कुछ', 'सिखाया', 'हैं।', 'जिंदगी', 'के', 'रंग', 'बहुत', 'अलग-अलग', 'होते', 'हैं।', 'समय', 'का', 'गुजर', 'जाना', 'तो', 'समझ', 'में', 'आता', 'हैं,', 'लेकिन', 'समय', 'को', 'गुजर', 'जाना', 'समझ', 'में', 'नहीं', 'आता।', 'पल', 'भर', 'के', 'जीवन', 'में', 'कुछ', 'पल', 'दिल', 'के', 'करीब', 'होते', 'हैं,', 'और', 'यादों', 'के', 'सिलसिले', 'कुछ', 'पल', 'यादों', 'के', 'करीब', 'होते', 'हैं।', 'बीते', 'पलों', 'को', 'बिताने', 'के', 'लिए', 'अच्छे', 'दोस्त', 'चाहिए', 'होते', 'हैं।', 'और', 'आने', 'वाले', 'पलों', 'को', 'जीने', 'के', 'लिए', 'सही', 'दोस्त', 'चाहिए', 'होते', 'हैं।', 'जिंदगी', 'एक', 'सफर', 'हैं', 'सुहाना।', 'कभी', 'हस्ती', 'हैं,', 'कभी', 'रुलाती', 'हैं।', 'यादों', 'की', 'धूप', 'छाँव', 'का', 'सफर', 'हैं।', 'जिंदगी', 'एक', 'सफर', 'हैं', 'सुहाना।']\n",
            "['सूरज', 'रौशनी', 'सजा', 'नूर', 'हैं।', 'सुरेख', 'समय', 'धारा', 'दौड़ता', 'जिन्दगी|', 'जीवन', 'अर्थ', 'साहस', 'समर्पण।', 'पन्नों', 'किताब', 'अल्फाज़ों', 'सराबों', 'भरी', 'हैं।', 'कहता', 'इसमें', 'विश्वास', 'रखने', 'वाला', 'अक्षर', 'तैयार', 'होता।', 'मैं', 'दिल', 'खोल', 'पढ़ता', 'हूँ।', 'अल्फाज़', 'मेरे', 'दिल', 'धड़कन', 'हैं।', 'अक्षर', 'दिल', 'दास्ताँ', 'कहता', 'हैं।', 'समय', 'सिखाया', 'हैं।', 'जिंदगी', 'रंग', 'बहुत', 'अलग-अलग', 'हैं।', 'समय', 'गुजर', 'जाना', 'समझ', 'आता', 'हैं,', 'समय', 'गुजर', 'जाना', 'समझ', 'नहीं', 'आता।', 'पल', 'भर', 'जीवन', 'पल', 'दिल', 'करीब', 'हैं,', 'यादों', 'सिलसिले', 'कुछ', 'पल', 'यादों', 'करीब', 'हैं।', 'बीते', 'पलों', 'बिताने', 'लिए', 'अच्छे', 'दोस्त', 'चाहिए', 'हैं।', 'आने', 'पलों', 'जीने', 'लिए', 'सही', 'दोस्त', 'चाहिए', 'हैं।', 'जिंदगी', 'सफर', 'सुहाना।', 'कभी', 'हस्ती', 'हैं,', 'कभी', 'रुलाती', 'हैं।', 'यादों', 'धूप', 'छाँव', 'सफर', 'हैं।', 'जिंदगी', 'एक', 'सफर', 'सुहाना।']\n"
          ]
        }
      ]
    },
    {
      "cell_type": "code",
      "source": [
        "import nltk\n",
        "from nltk.corpus import stopwords\n",
        "from nltk.tokenize import word_tokenize\n",
        "nltk.download('punkt')\n",
        "nltk.download('stopwords')\n",
        "example_sent = \"\"\"This is a sample sentence,\n",
        "\t\t\t\tshowing off the stop words filtration.\"\"\"\n",
        "\n",
        "stop_words = set(stopwords.words('english'))\n",
        "\n",
        "word_tokens = word_tokenize(example_sent)\n",
        "# converts the words in word_tokens to lower case and then checks whether\n",
        "#they are present in stop_words or not\n",
        "filtered_sentence = [w for w in word_tokens if not w.lower() in stop_words]\n",
        "#with no lower case conversion\n",
        "filtered_sentence = []\n",
        "\n",
        "for w in word_tokens:\n",
        "\tif w not in stop_words:\n",
        "\t\tfiltered_sentence.append(w)\n",
        "\n",
        "print(word_tokens)\n",
        "print(filtered_sentence)"
      ],
      "metadata": {
        "id": "TQm4ESxgyROB",
        "outputId": "5389b036-13ed-4396-cb66-e87aa097a207",
        "colab": {
          "base_uri": "https://localhost:8080/"
        }
      },
      "execution_count": null,
      "outputs": [
        {
          "output_type": "stream",
          "name": "stdout",
          "text": [
            "['This', 'is', 'a', 'sample', 'sentence', ',', 'showing', 'off', 'the', 'stop', 'words', 'filtration', '.']\n",
            "['This', 'sample', 'sentence', ',', 'showing', 'stop', 'words', 'filtration', '.']\n"
          ]
        },
        {
          "output_type": "stream",
          "name": "stderr",
          "text": [
            "[nltk_data] Downloading package punkt to /root/nltk_data...\n",
            "[nltk_data]   Package punkt is already up-to-date!\n",
            "[nltk_data] Downloading package stopwords to /root/nltk_data...\n",
            "[nltk_data]   Unzipping corpora/stopwords.zip.\n"
          ]
        }
      ]
    }
  ]
}