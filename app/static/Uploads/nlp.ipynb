{
  "nbformat": 4,
  "nbformat_minor": 0,
  "metadata": {
    "colab": {
      "provenance": []
    },
    "kernelspec": {
      "name": "python3",
      "display_name": "Python 3"
    },
    "language_info": {
      "name": "python"
    }
  },
  "cells": [
    {
      "cell_type": "markdown",
      "source": [
        "##Name:- Abhay Chheda\n",
        "\n",
        "##Class:- BE3\n",
        "\n",
        "##Batch:- A\n",
        "\n",
        "##Rollno:- 9\n",
        "\n",
        "##Subject:- NLP\n",
        "\n",
        "##EXPERIMENT:- 6\n",
        "\n",
        "##AIM:- Implement POS tagging using HMM in python"
      ],
      "metadata": {
        "id": "T_HA3qu0riOy"
      }
    },
    {
      "cell_type": "code",
      "execution_count": 1,
      "metadata": {
        "id": "gIiODpuyap0x",
        "colab": {
          "base_uri": "https://localhost:8080/",
          "height": 0
        },
        "outputId": "56d1e15f-7e97-4953-c5e2-25e7d19291cb"
      },
      "outputs": [
        {
          "output_type": "stream",
          "name": "stderr",
          "text": [
            "[nltk_data] Downloading package punkt to /root/nltk_data...\n",
            "[nltk_data]   Unzipping tokenizers/punkt.zip.\n",
            "[nltk_data] Downloading package averaged_perceptron_tagger to\n",
            "[nltk_data]     /root/nltk_data...\n",
            "[nltk_data]   Unzipping taggers/averaged_perceptron_tagger.zip.\n"
          ]
        },
        {
          "output_type": "execute_result",
          "data": {
            "text/plain": [
              "True"
            ]
          },
          "metadata": {},
          "execution_count": 1
        }
      ],
      "source": [
        "import nltk\n",
        "from nltk import word_tokenize,pos_tag,sent_tokenize\n",
        "nltk.download('punkt')\n",
        "nltk.download('averaged_perceptron_tagger')"
      ]
    },
    {
      "cell_type": "code",
      "source": [
        "corpus = \"I love chocolates and ice creams. I love vanilla ice cream. I like dark chocolate. I hate strawberry ice cream. They refuse to permit us to obtain the refuse permit\"\n",
        "corpus_processed = corpus.replace(\".\",\"\")\n",
        "corpus_sentences = corpus.split(\". \")\n",
        "sent_length = [len(sent.split(\" \")) for sent in corpus_sentences]\n",
        "sent_length"
      ],
      "metadata": {
        "colab": {
          "base_uri": "https://localhost:8080/",
          "height": 0
        },
        "id": "pH1Bc9XObEc6",
        "outputId": "c1d06b98-f8c3-43f4-bdba-1f4f25c5ba73"
      },
      "execution_count": 2,
      "outputs": [
        {
          "output_type": "execute_result",
          "data": {
            "text/plain": [
              "[6, 5, 4, 5, 10]"
            ]
          },
          "metadata": {},
          "execution_count": 2
        }
      ]
    },
    {
      "cell_type": "code",
      "source": [
        "sentences = sent_tokenize(corpus)\n",
        "sentences"
      ],
      "metadata": {
        "colab": {
          "base_uri": "https://localhost:8080/",
          "height": 0
        },
        "id": "nUBaPsaObFl5",
        "outputId": "022a9c5b-08a4-4ca4-eb9a-3d8be2b2b9cf"
      },
      "execution_count": 3,
      "outputs": [
        {
          "output_type": "execute_result",
          "data": {
            "text/plain": [
              "['I love chocolates and ice creams.',\n",
              " 'I love vanilla ice cream.',\n",
              " 'I like dark chocolate.',\n",
              " 'I hate strawberry ice cream.',\n",
              " 'They refuse to permit us to obtain the refuse permit']"
            ]
          },
          "metadata": {},
          "execution_count": 3
        }
      ]
    },
    {
      "cell_type": "code",
      "source": [
        "word_tokens = []\n",
        "for sentence in sentences:\n",
        "  word_tokens.extend(word_tokenize(sentence[0:len(sentence)-1:]))\n",
        "word_tokens"
      ],
      "metadata": {
        "colab": {
          "base_uri": "https://localhost:8080/",
          "height": 0
        },
        "id": "4v0vDz7abGlJ",
        "outputId": "7c6e4719-bab6-4f37-9c29-47c96735972a"
      },
      "execution_count": 4,
      "outputs": [
        {
          "output_type": "execute_result",
          "data": {
            "text/plain": [
              "['I',\n",
              " 'love',\n",
              " 'chocolates',\n",
              " 'and',\n",
              " 'ice',\n",
              " 'creams',\n",
              " 'I',\n",
              " 'love',\n",
              " 'vanilla',\n",
              " 'ice',\n",
              " 'cream',\n",
              " 'I',\n",
              " 'like',\n",
              " 'dark',\n",
              " 'chocolate',\n",
              " 'I',\n",
              " 'hate',\n",
              " 'strawberry',\n",
              " 'ice',\n",
              " 'cream',\n",
              " 'They',\n",
              " 'refuse',\n",
              " 'to',\n",
              " 'permit',\n",
              " 'us',\n",
              " 'to',\n",
              " 'obtain',\n",
              " 'the',\n",
              " 'refuse',\n",
              " 'permi']"
            ]
          },
          "metadata": {},
          "execution_count": 4
        }
      ]
    },
    {
      "cell_type": "code",
      "source": [
        "pos_tags = pos_tag(word_tokens)\n",
        "pos_tags"
      ],
      "metadata": {
        "colab": {
          "base_uri": "https://localhost:8080/",
          "height": 0
        },
        "id": "ApjEtgwEbH3a",
        "outputId": "8cf637e6-b868-4acf-8ae8-e716ad1f7a36"
      },
      "execution_count": 5,
      "outputs": [
        {
          "output_type": "execute_result",
          "data": {
            "text/plain": [
              "[('I', 'PRP'),\n",
              " ('love', 'VBP'),\n",
              " ('chocolates', 'NNS'),\n",
              " ('and', 'CC'),\n",
              " ('ice', 'NN'),\n",
              " ('creams', 'NNS'),\n",
              " ('I', 'PRP'),\n",
              " ('love', 'VBP'),\n",
              " ('vanilla', 'NN'),\n",
              " ('ice', 'NN'),\n",
              " ('cream', 'NN'),\n",
              " ('I', 'PRP'),\n",
              " ('like', 'VBP'),\n",
              " ('dark', 'JJ'),\n",
              " ('chocolate', 'NN'),\n",
              " ('I', 'PRP'),\n",
              " ('hate', 'VBP'),\n",
              " ('strawberry', 'JJ'),\n",
              " ('ice', 'NN'),\n",
              " ('cream', 'NN'),\n",
              " ('They', 'PRP'),\n",
              " ('refuse', 'VBP'),\n",
              " ('to', 'TO'),\n",
              " ('permit', 'VB'),\n",
              " ('us', 'PRP'),\n",
              " ('to', 'TO'),\n",
              " ('obtain', 'VB'),\n",
              " ('the', 'DT'),\n",
              " ('refuse', 'NN'),\n",
              " ('permi', 'NN')]"
            ]
          },
          "metadata": {},
          "execution_count": 5
        }
      ]
    },
    {
      "cell_type": "code",
      "source": [
        "tag_count = dict()\n",
        "for pair in pos_tags:\n",
        "  try:\n",
        "     tag_count[pair[1]]+=1\n",
        "  except:\n",
        "     tag_count[pair[1]] = 1\n",
        "tag_count"
      ],
      "metadata": {
        "colab": {
          "base_uri": "https://localhost:8080/",
          "height": 0
        },
        "id": "0Eh_m-2qbJXa",
        "outputId": "83a43db2-7b94-4dbb-9079-87a1a11a3954"
      },
      "execution_count": 6,
      "outputs": [
        {
          "output_type": "execute_result",
          "data": {
            "text/plain": [
              "{'PRP': 6,\n",
              " 'VBP': 5,\n",
              " 'NNS': 2,\n",
              " 'CC': 1,\n",
              " 'NN': 9,\n",
              " 'JJ': 2,\n",
              " 'TO': 2,\n",
              " 'VB': 2,\n",
              " 'DT': 1}"
            ]
          },
          "metadata": {},
          "execution_count": 6
        }
      ]
    },
    {
      "cell_type": "code",
      "source": [
        "set_tokens = set(word_tokens)\n",
        "set_tokens\n"
      ],
      "metadata": {
        "colab": {
          "base_uri": "https://localhost:8080/",
          "height": 0
        },
        "id": "nDP1NIRibKbB",
        "outputId": "d251417b-a08f-4f1f-fede-c61ff4084062"
      },
      "execution_count": 7,
      "outputs": [
        {
          "output_type": "execute_result",
          "data": {
            "text/plain": [
              "{'I',\n",
              " 'They',\n",
              " 'and',\n",
              " 'chocolate',\n",
              " 'chocolates',\n",
              " 'cream',\n",
              " 'creams',\n",
              " 'dark',\n",
              " 'hate',\n",
              " 'ice',\n",
              " 'like',\n",
              " 'love',\n",
              " 'obtain',\n",
              " 'permi',\n",
              " 'permit',\n",
              " 'refuse',\n",
              " 'strawberry',\n",
              " 'the',\n",
              " 'to',\n",
              " 'us',\n",
              " 'vanilla'}"
            ]
          },
          "metadata": {},
          "execution_count": 7
        }
      ]
    },
    {
      "cell_type": "code",
      "source": [
        "def find_tags(w):\n",
        "  tag_dict = dict()\n",
        "  for pair in pos_tags:\n",
        "    if pair[0] == w:\n",
        "      try:\n",
        "        tag_dict[pair[1]]+=1\n",
        "      except:\n",
        "        tag_dict[pair[1]] = 1\n",
        "  return tag_dict"
      ],
      "metadata": {
        "id": "zbePTYQobLqp"
      },
      "execution_count": 8,
      "outputs": []
    },
    {
      "cell_type": "code",
      "source": [
        "word_map = dict()\n",
        "for word in set_tokens:\n",
        "  word_map[word] = find_tags(word)\n",
        "word_map"
      ],
      "metadata": {
        "colab": {
          "base_uri": "https://localhost:8080/",
          "height": 0
        },
        "id": "_b6nVt_ubM5h",
        "outputId": "f29290d2-b2e0-464a-c71b-de61677bb813"
      },
      "execution_count": 9,
      "outputs": [
        {
          "output_type": "execute_result",
          "data": {
            "text/plain": [
              "{'us': {'PRP': 1},\n",
              " 'to': {'TO': 2},\n",
              " 'and': {'CC': 1},\n",
              " 'ice': {'NN': 3},\n",
              " 'hate': {'VBP': 1},\n",
              " 'vanilla': {'NN': 1},\n",
              " 'cream': {'NN': 2},\n",
              " 'strawberry': {'JJ': 1},\n",
              " 'the': {'DT': 1},\n",
              " 'chocolate': {'NN': 1},\n",
              " 'They': {'PRP': 1},\n",
              " 'like': {'VBP': 1},\n",
              " 'refuse': {'VBP': 1, 'NN': 1},\n",
              " 'chocolates': {'NNS': 1},\n",
              " 'permi': {'NN': 1},\n",
              " 'love': {'VBP': 2},\n",
              " 'creams': {'NNS': 1},\n",
              " 'obtain': {'VB': 1},\n",
              " 'permit': {'VB': 1},\n",
              " 'dark': {'JJ': 1},\n",
              " 'I': {'PRP': 4}}"
            ]
          },
          "metadata": {},
          "execution_count": 9
        }
      ]
    },
    {
      "cell_type": "code",
      "source": [
        "emission_prob = word_map.copy()\n",
        "for key in list(emission_prob.keys()):\n",
        "  for k in list(emission_prob[key].keys()):\n",
        "    emission_prob[key][k] = round(emission_prob[key][k] / tag_count[k],2)\n",
        "emission_prob"
      ],
      "metadata": {
        "colab": {
          "base_uri": "https://localhost:8080/",
          "height": 0
        },
        "id": "FIP0rWWJbPjp",
        "outputId": "2ca7c088-2054-4bdd-fcac-218c8b6106c4"
      },
      "execution_count": 10,
      "outputs": [
        {
          "output_type": "execute_result",
          "data": {
            "text/plain": [
              "{'us': {'PRP': 0.17},\n",
              " 'to': {'TO': 1.0},\n",
              " 'and': {'CC': 1.0},\n",
              " 'ice': {'NN': 0.33},\n",
              " 'hate': {'VBP': 0.2},\n",
              " 'vanilla': {'NN': 0.11},\n",
              " 'cream': {'NN': 0.22},\n",
              " 'strawberry': {'JJ': 0.5},\n",
              " 'the': {'DT': 1.0},\n",
              " 'chocolate': {'NN': 0.11},\n",
              " 'They': {'PRP': 0.17},\n",
              " 'like': {'VBP': 0.2},\n",
              " 'refuse': {'VBP': 0.2, 'NN': 0.11},\n",
              " 'chocolates': {'NNS': 0.5},\n",
              " 'permi': {'NN': 0.11},\n",
              " 'love': {'VBP': 0.4},\n",
              " 'creams': {'NNS': 0.5},\n",
              " 'obtain': {'VB': 0.5},\n",
              " 'permit': {'VB': 0.5},\n",
              " 'dark': {'JJ': 0.5},\n",
              " 'I': {'PRP': 0.67}}"
            ]
          },
          "metadata": {},
          "execution_count": 10
        }
      ]
    },
    {
      "cell_type": "code",
      "source": [
        "tag_sequence = {'start' : dict()}\n",
        "tag_sequence['start'][pos_tags[0][1]] = 1\n",
        "add=0\n",
        "add2 = 0\n",
        "for i in range(len(sent_length)-1):\n",
        "  if i == 0:\n",
        "    add = 0\n",
        "    add2 = 0\n",
        "  else:\n",
        "    add+=sent_length[i-1]\n",
        "    add2+=sent_length[i-1]\n",
        "  try:\n",
        "    tag_sequence['start'][pos_tags[sent_length[i]+add][1]]+=1\n",
        "  except:\n",
        "    tag_sequence['start'][pos_tags[sent_length[i]+add][1]]=1\n",
        "  if add2 == 0:\n",
        "    continue\n",
        "  try:\n",
        "    tag_sequence[pos_tags[add2-1][1]]\n",
        "    try:\n",
        "      tag_sequence[pos_tags[add2-1][1]]['end']+=1\n",
        "    except:\n",
        "      tag_sequence[pos_tags[add2-1][1]]['end']=1\n",
        "  except:\n",
        "     tag_sequence[pos_tags[add2-1][1]] = dict()\n",
        "     try:\n",
        "      tag_sequence[pos_tags[add2-1][1]]['end']+=1\n",
        "     except:\n",
        "      tag_sequence[pos_tags[add2-1][1]]['end']=1\n",
        "\n",
        "try:\n",
        "  tag_sequence[pos_tags[-sent_length[-1]-1][1]]['end']+=1\n",
        "except:\n",
        "  tag_sequence[pos_tags[-sent_length[-1]-1]][1]['end'] = 1\n",
        "try:\n",
        "  tag_sequence[pos_tags[-1][1]]['end']+=1\n",
        "except:\n",
        "  tag_sequence[pos_tags[-1][1]]['end'] = 1\n",
        "tag_sequence"
      ],
      "metadata": {
        "colab": {
          "base_uri": "https://localhost:8080/",
          "height": 0
        },
        "id": "9fJNeHSAbRTS",
        "outputId": "ec97cd61-49b5-4f51-b572-bd2c0ceb9ae7"
      },
      "execution_count": 11,
      "outputs": [
        {
          "output_type": "execute_result",
          "data": {
            "text/plain": [
              "{'start': {'PRP': 5}, 'NNS': {'end': 1}, 'NN': {'end': 4}}"
            ]
          },
          "metadata": {},
          "execution_count": 11
        }
      ]
    },
    {
      "cell_type": "code",
      "source": [
        "length_c = []\n",
        "length_c.append(sent_length[0])\n",
        "for i in range(1,len(sent_length)):\n",
        "  length_c.append(length_c[i-1]+sent_length[i])\n",
        "length_c"
      ],
      "metadata": {
        "colab": {
          "base_uri": "https://localhost:8080/",
          "height": 0
        },
        "id": "qbDgzyVSbUDR",
        "outputId": "ba3bdfb4-823b-4c00-a9e6-dcbc5c15e8ba"
      },
      "execution_count": 12,
      "outputs": [
        {
          "output_type": "execute_result",
          "data": {
            "text/plain": [
              "[6, 11, 15, 20, 30]"
            ]
          },
          "metadata": {},
          "execution_count": 12
        }
      ]
    },
    {
      "cell_type": "code",
      "source": [
        "for i in range(1,len(pos_tags)-1):\n",
        "  if i+1 in length_c:\n",
        "     continue\n",
        "  try:\n",
        "    tag_sequence[pos_tags[i-1][1]]\n",
        "    try:\n",
        "      tag_sequence[pos_tags[i-1][1]][pos_tags[i][1]]+=1\n",
        "    except:\n",
        "      tag_sequence[pos_tags[i-1][1]][pos_tags[i][1]]=1\n",
        "  except:\n",
        "    tag_sequence[pos_tags[i-1][1]] = dict()\n",
        "    try:\n",
        "      tag_sequence[pos_tags[i-1][1]][pos_tags[i][1]]+=1\n",
        "    except:\n",
        "      tag_sequence[pos_tags[i-1][1]][pos_tags[i][1]]=1\n",
        "tag_sequence"
      ],
      "metadata": {
        "colab": {
          "base_uri": "https://localhost:8080/",
          "height": 0
        },
        "id": "oaDqTuGMbVMA",
        "outputId": "f0d606d5-9c18-4162-a0e3-93a7d1ad0bd3"
      },
      "execution_count": 13,
      "outputs": [
        {
          "output_type": "execute_result",
          "data": {
            "text/plain": [
              "{'start': {'PRP': 5},\n",
              " 'NNS': {'end': 1, 'CC': 1, 'PRP': 1},\n",
              " 'NN': {'end': 4, 'NN': 1, 'PRP': 3},\n",
              " 'PRP': {'VBP': 5, 'TO': 1},\n",
              " 'VBP': {'NNS': 1, 'NN': 1, 'JJ': 2, 'TO': 1},\n",
              " 'CC': {'NN': 1},\n",
              " 'JJ': {'NN': 1},\n",
              " 'TO': {'VB': 2},\n",
              " 'VB': {'PRP': 1, 'DT': 1},\n",
              " 'DT': {'NN': 1}}"
            ]
          },
          "metadata": {},
          "execution_count": 13
        }
      ]
    },
    {
      "cell_type": "code",
      "source": [
        "tag_count['start'] , tag_count['end'] = len(sentences),len(sentences)\n",
        "tag_count"
      ],
      "metadata": {
        "colab": {
          "base_uri": "https://localhost:8080/",
          "height": 0
        },
        "id": "im2kYrFWbWOR",
        "outputId": "7d691620-d3f8-47be-936e-0d9e598ce532"
      },
      "execution_count": 14,
      "outputs": [
        {
          "output_type": "execute_result",
          "data": {
            "text/plain": [
              "{'PRP': 6,\n",
              " 'VBP': 5,\n",
              " 'NNS': 2,\n",
              " 'CC': 1,\n",
              " 'NN': 9,\n",
              " 'JJ': 2,\n",
              " 'TO': 2,\n",
              " 'VB': 2,\n",
              " 'DT': 1,\n",
              " 'start': 5,\n",
              " 'end': 5}"
            ]
          },
          "metadata": {},
          "execution_count": 14
        }
      ]
    },
    {
      "cell_type": "code",
      "source": [
        "for outerKey in list(tag_sequence.keys()):\n",
        "  for innerKey in list(tag_sequence[outerKey].keys()):\n",
        "    tag_sequence[outerKey][innerKey] = tag_sequence[outerKey][innerKey] / tag_count[outerKey]"
      ],
      "metadata": {
        "id": "-v-lBh3zbXqx"
      },
      "execution_count": 15,
      "outputs": []
    },
    {
      "cell_type": "code",
      "source": [
        "tag_sequence"
      ],
      "metadata": {
        "colab": {
          "base_uri": "https://localhost:8080/",
          "height": 0
        },
        "id": "LTsiTkasbZDJ",
        "outputId": "6cc4dd9c-e227-4386-c545-dabc3ff40d70"
      },
      "execution_count": 16,
      "outputs": [
        {
          "output_type": "execute_result",
          "data": {
            "text/plain": [
              "{'start': {'PRP': 1.0},\n",
              " 'NNS': {'end': 0.5, 'CC': 0.5, 'PRP': 0.5},\n",
              " 'NN': {'end': 0.4444444444444444,\n",
              "  'NN': 0.1111111111111111,\n",
              "  'PRP': 0.3333333333333333},\n",
              " 'PRP': {'VBP': 0.8333333333333334, 'TO': 0.16666666666666666},\n",
              " 'VBP': {'NNS': 0.2, 'NN': 0.2, 'JJ': 0.4, 'TO': 0.2},\n",
              " 'CC': {'NN': 1.0},\n",
              " 'JJ': {'NN': 0.5},\n",
              " 'TO': {'VB': 1.0},\n",
              " 'VB': {'PRP': 0.5, 'DT': 0.5},\n",
              " 'DT': {'NN': 1.0}}"
            ]
          },
          "metadata": {},
          "execution_count": 16
        }
      ]
    },
    {
      "cell_type": "code",
      "source": [
        "input_tags = [('I','PRP'),('love','VBP'),('ice','NN'),('cream','NN')]\n",
        "input_tags2 = [('I','PRP'),('love','VBP'),('ice','NNS'),('cream','NN')]"
      ],
      "metadata": {
        "id": "XpldOKBgbaUp"
      },
      "execution_count": 17,
      "outputs": []
    },
    {
      "cell_type": "code",
      "source": [
        "def find_prob(input):\n",
        "  try:\n",
        "    prob = tag_sequence['start'][input[0][1]]\n",
        "  except:\n",
        "      prob*=0\n",
        "      print(\"Wrong Tagging\")\n",
        "      print(input[0][0],\"|\",input[0][1])\n",
        "  for i in range(len(input)):\n",
        "    pair=input[i]\n",
        "    try:\n",
        "      prob*=emission_prob[pair[0]][pair[1]]\n",
        "    except:\n",
        "      prob*=0\n",
        "      print(\"Wrong Tagging\")\n",
        "      print(pair[0],\"|\",pair[1])\n",
        "    if i==len(input)-1:\n",
        "      continue\n",
        "    try:\n",
        "      prob*=tag_sequence[input[i][1]][input[i+1][1]]\n",
        "    except:\n",
        "      prob*=0\n",
        "      print(\"Wrong Tagging\")\n",
        "      print(input[i][1],\"|\",input[i+1][1])\n",
        "  try:\n",
        "    prob*= tag_sequence[input[-1][1]]['end']\n",
        "  except:\n",
        "      prob*=0\n",
        "      print(\"Wrong Tagging\")\n",
        "      print(input[0][0],\"|\",input[0][1])\n",
        "  return prob"
      ],
      "metadata": {
        "id": "TZ5Sty4jbbtZ"
      },
      "execution_count": 18,
      "outputs": []
    },
    {
      "cell_type": "code",
      "source": [
        "find_prob(input_tags)"
      ],
      "metadata": {
        "colab": {
          "base_uri": "https://localhost:8080/",
          "height": 0
        },
        "id": "kbs_VSX_bdCh",
        "outputId": "ad5fdebc-5a60-48f4-d5dd-c2feba920cde"
      },
      "execution_count": 19,
      "outputs": [
        {
          "output_type": "execute_result",
          "data": {
            "text/plain": [
              "0.00016013827160493826"
            ]
          },
          "metadata": {},
          "execution_count": 19
        }
      ]
    },
    {
      "cell_type": "code",
      "source": [
        "find_prob(input_tags2)"
      ],
      "metadata": {
        "colab": {
          "base_uri": "https://localhost:8080/",
          "height": 0
        },
        "id": "Uf1yGVJVbeGx",
        "outputId": "6513b3dc-59f1-4d53-a69f-0bdf34b03a1e"
      },
      "execution_count": 20,
      "outputs": [
        {
          "output_type": "stream",
          "name": "stdout",
          "text": [
            "Wrong Tagging\n",
            "ice | NNS\n",
            "Wrong Tagging\n",
            "NNS | NN\n"
          ]
        },
        {
          "output_type": "execute_result",
          "data": {
            "text/plain": [
              "0.0"
            ]
          },
          "metadata": {},
          "execution_count": 20
        }
      ]
    }
  ]
}